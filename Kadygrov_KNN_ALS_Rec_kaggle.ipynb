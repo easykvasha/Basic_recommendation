{
  "cells": [
    {
      "cell_type": "code",
      "execution_count": 2,
      "id": "baff126d",
      "metadata": {
        "colab": {
          "base_uri": "https://localhost:8080/"
        },
        "id": "baff126d",
        "outputId": "5274c049-7fbf-4696-bbfd-8ba70be9084e"
      },
      "outputs": [
        {
          "output_type": "stream",
          "name": "stdout",
          "text": [
            "Looking in indexes: https://pypi.org/simple, https://us-python.pkg.dev/colab-wheels/public/simple/\n",
            "Collecting implicit\n",
            "  Downloading implicit-0.6.1-cp37-cp37m-manylinux2014_x86_64.whl (18.6 MB)\n",
            "\u001b[K     |████████████████████████████████| 18.6 MB 349 kB/s \n",
            "\u001b[?25hRequirement already satisfied: numpy in /usr/local/lib/python3.7/dist-packages (from implicit) (1.21.6)\n",
            "Requirement already satisfied: scipy>=0.16 in /usr/local/lib/python3.7/dist-packages (from implicit) (1.7.3)\n",
            "Requirement already satisfied: tqdm>=4.27 in /usr/local/lib/python3.7/dist-packages (from implicit) (4.64.1)\n",
            "Installing collected packages: implicit\n",
            "Successfully installed implicit-0.6.1\n"
          ]
        }
      ],
      "source": [
        "!pip install implicit"
      ]
    },
    {
      "cell_type": "code",
      "source": [
        "!pip install rectools"
      ],
      "metadata": {
        "colab": {
          "base_uri": "https://localhost:8080/"
        },
        "id": "5Xzi6JElAPFY",
        "outputId": "d2ba8039-92a0-4ef1-fd99-f0340e3677f2"
      },
      "id": "5Xzi6JElAPFY",
      "execution_count": 3,
      "outputs": [
        {
          "output_type": "stream",
          "name": "stdout",
          "text": [
            "Looking in indexes: https://pypi.org/simple, https://us-python.pkg.dev/colab-wheels/public/simple/\n",
            "Collecting rectools\n",
            "  Downloading RecTools-0.2.0-py3-none-any.whl (86 kB)\n",
            "\u001b[K     |████████████████████████████████| 86 kB 3.6 MB/s \n",
            "\u001b[?25hCollecting nmslib<3.0.0,>=2.0.4\n",
            "  Downloading nmslib-2.1.1-cp37-cp37m-manylinux2010_x86_64.whl (13.5 MB)\n",
            "\u001b[K     |████████████████████████████████| 13.5 MB 38.4 MB/s \n",
            "\u001b[?25hCollecting lightfm<2.0,>=1.16\n",
            "  Downloading lightfm-1.16.tar.gz (310 kB)\n",
            "\u001b[K     |████████████████████████████████| 310 kB 53.9 MB/s \n",
            "\u001b[?25hCollecting attrs<22.0.0,>=19.1.0\n",
            "  Downloading attrs-21.4.0-py2.py3-none-any.whl (60 kB)\n",
            "\u001b[K     |████████████████████████████████| 60 kB 7.3 MB/s \n",
            "\u001b[?25hRequirement already satisfied: numpy<2.0.0,>=1.19.5 in /usr/local/lib/python3.7/dist-packages (from rectools) (1.21.6)\n",
            "Collecting Markdown<3.3,>=3.2\n",
            "  Downloading Markdown-3.2.2-py3-none-any.whl (88 kB)\n",
            "\u001b[K     |████████████████████████████████| 88 kB 8.5 MB/s \n",
            "\u001b[?25hRequirement already satisfied: pandas<2.0.0,>=0.25.3 in /usr/local/lib/python3.7/dist-packages (from rectools) (1.3.5)\n",
            "Requirement already satisfied: scipy<2.0.0,>=1.5.4 in /usr/local/lib/python3.7/dist-packages (from rectools) (1.7.3)\n",
            "Collecting implicit==0.4.4\n",
            "  Downloading implicit-0.4.4.tar.gz (1.1 MB)\n",
            "\u001b[K     |████████████████████████████████| 1.1 MB 63.7 MB/s \n",
            "\u001b[?25hRequirement already satisfied: typeguard<3.0.0,>=2.0.1 in /usr/local/lib/python3.7/dist-packages (from rectools) (2.7.1)\n",
            "Requirement already satisfied: tqdm<5.0.0,>=4.27.0 in /usr/local/lib/python3.7/dist-packages (from rectools) (4.64.1)\n",
            "Requirement already satisfied: requests in /usr/local/lib/python3.7/dist-packages (from lightfm<2.0,>=1.16->rectools) (2.23.0)\n",
            "Requirement already satisfied: scikit-learn in /usr/local/lib/python3.7/dist-packages (from lightfm<2.0,>=1.16->rectools) (1.0.2)\n",
            "Requirement already satisfied: importlib-metadata in /usr/local/lib/python3.7/dist-packages (from Markdown<3.3,>=3.2->rectools) (4.12.0)\n",
            "Requirement already satisfied: psutil in /usr/local/lib/python3.7/dist-packages (from nmslib<3.0.0,>=2.0.4->rectools) (5.4.8)\n",
            "Collecting pybind11<2.6.2\n",
            "  Downloading pybind11-2.6.1-py2.py3-none-any.whl (188 kB)\n",
            "\u001b[K     |████████████████████████████████| 188 kB 64.3 MB/s \n",
            "\u001b[?25hRequirement already satisfied: python-dateutil>=2.7.3 in /usr/local/lib/python3.7/dist-packages (from pandas<2.0.0,>=0.25.3->rectools) (2.8.2)\n",
            "Requirement already satisfied: pytz>=2017.3 in /usr/local/lib/python3.7/dist-packages (from pandas<2.0.0,>=0.25.3->rectools) (2022.2.1)\n",
            "Requirement already satisfied: six>=1.5 in /usr/local/lib/python3.7/dist-packages (from python-dateutil>=2.7.3->pandas<2.0.0,>=0.25.3->rectools) (1.15.0)\n",
            "Requirement already satisfied: typing-extensions>=3.6.4 in /usr/local/lib/python3.7/dist-packages (from importlib-metadata->Markdown<3.3,>=3.2->rectools) (4.1.1)\n",
            "Requirement already satisfied: zipp>=0.5 in /usr/local/lib/python3.7/dist-packages (from importlib-metadata->Markdown<3.3,>=3.2->rectools) (3.8.1)\n",
            "Requirement already satisfied: certifi>=2017.4.17 in /usr/local/lib/python3.7/dist-packages (from requests->lightfm<2.0,>=1.16->rectools) (2022.6.15)\n",
            "Requirement already satisfied: urllib3!=1.25.0,!=1.25.1,<1.26,>=1.21.1 in /usr/local/lib/python3.7/dist-packages (from requests->lightfm<2.0,>=1.16->rectools) (1.24.3)\n",
            "Requirement already satisfied: chardet<4,>=3.0.2 in /usr/local/lib/python3.7/dist-packages (from requests->lightfm<2.0,>=1.16->rectools) (3.0.4)\n",
            "Requirement already satisfied: idna<3,>=2.5 in /usr/local/lib/python3.7/dist-packages (from requests->lightfm<2.0,>=1.16->rectools) (2.10)\n",
            "Requirement already satisfied: joblib>=0.11 in /usr/local/lib/python3.7/dist-packages (from scikit-learn->lightfm<2.0,>=1.16->rectools) (1.1.0)\n",
            "Requirement already satisfied: threadpoolctl>=2.0.0 in /usr/local/lib/python3.7/dist-packages (from scikit-learn->lightfm<2.0,>=1.16->rectools) (3.1.0)\n",
            "Building wheels for collected packages: implicit, lightfm\n",
            "  Building wheel for implicit (setup.py) ... \u001b[?25l\u001b[?25hdone\n",
            "  Created wheel for implicit: filename=implicit-0.4.4-cp37-cp37m-linux_x86_64.whl size=3421672 sha256=4b0eb961ef34c0b5fa88930f3d024ed79b1631106672fd2d0535fbd9cd246d00\n",
            "  Stored in directory: /root/.cache/pip/wheels/44/7e/7d/a17324ea207cfbe76aca878b5b8ca0aa932cf55d163329be37\n",
            "  Building wheel for lightfm (setup.py) ... \u001b[?25l\u001b[?25hdone\n",
            "  Created wheel for lightfm: filename=lightfm-1.16-cp37-cp37m-linux_x86_64.whl size=705385 sha256=a6ec74367e097885a10d79d0c69f390aa589fe817e431aea25ecc186f3d9598d\n",
            "  Stored in directory: /root/.cache/pip/wheels/f8/56/28/5772a3bd3413d65f03aa452190b00898b680b10028a1021914\n",
            "Successfully built implicit lightfm\n",
            "Installing collected packages: pybind11, nmslib, Markdown, lightfm, implicit, attrs, rectools\n",
            "  Attempting uninstall: Markdown\n",
            "    Found existing installation: Markdown 3.4.1\n",
            "    Uninstalling Markdown-3.4.1:\n",
            "      Successfully uninstalled Markdown-3.4.1\n",
            "  Attempting uninstall: implicit\n",
            "    Found existing installation: implicit 0.6.1\n",
            "    Uninstalling implicit-0.6.1:\n",
            "      Successfully uninstalled implicit-0.6.1\n",
            "  Attempting uninstall: attrs\n",
            "    Found existing installation: attrs 22.1.0\n",
            "    Uninstalling attrs-22.1.0:\n",
            "      Successfully uninstalled attrs-22.1.0\n",
            "Successfully installed Markdown-3.2.2 attrs-21.4.0 implicit-0.4.4 lightfm-1.16 nmslib-2.1.1 pybind11-2.6.1 rectools-0.2.0\n"
          ]
        }
      ]
    },
    {
      "cell_type": "code",
      "execution_count": 4,
      "id": "b66d398a",
      "metadata": {
        "id": "b66d398a"
      },
      "outputs": [],
      "source": [
        "import numpy as np\n",
        "import pandas as pd\n",
        "\n",
        "from implicit.nearest_neighbours import TFIDFRecommender\n",
        "from implicit.als import AlternatingLeastSquares\n",
        "\n",
        "from rectools import Columns\n",
        "from rectools.dataset import Dataset, SparseFeatures, DenseFeatures, IdMap, Interactions\n",
        "from rectools.metrics import (\n",
        "    Precision,\n",
        "    Recall,\n",
        "    calc_metrics,\n",
        ")\n",
        "from rectools.models import ImplicitALSWrapperModel\n",
        "from rectools.models import ImplicitItemKNNWrapperModel"
      ]
    },
    {
      "cell_type": "markdown",
      "source": [
        "**Подготовка данных** \n",
        "В данной работе я буду пользоваться учебным набором данных, содержащим информацию о пользователе, песне и рейтенге, который пользователь поставил песне.\n",
        "\n",
        "Подробную информацию о датасете можно прочитать по ссылке: https://www.kaggle.com/datasets/rymnikski/dataset-for-collaborative-filters (2млн записей)\n",
        "\n",
        "\n",
        "1) Датасет с информацией об оценке песен"
      ],
      "metadata": {
        "id": "4by3Nfe2TJRU"
      },
      "id": "4by3Nfe2TJRU"
    },
    {
      "cell_type": "code",
      "execution_count": 6,
      "id": "605c09bb",
      "metadata": {
        "colab": {
          "base_uri": "https://localhost:8080/",
          "height": 223
        },
        "id": "605c09bb",
        "outputId": "f5fbd347-c996-43f7-c623-aa8006e93d76"
      },
      "outputs": [
        {
          "output_type": "stream",
          "name": "stdout",
          "text": [
            "(1000000, 4)\n"
          ]
        },
        {
          "output_type": "execute_result",
          "data": {
            "text/plain": [
              "  user_id item_id weight  datetime\n",
              "1       0    7171      5       NaN\n",
              "2       0    8637      4       NaN\n",
              "3       0   21966      4       NaN\n",
              "4       0   35821      5       NaN\n",
              "5       0   82446      5       NaN"
            ],
            "text/html": [
              "\n",
              "  <div id=\"df-0e68725b-55c7-4a92-ad04-6e2e88c9520d\">\n",
              "    <div class=\"colab-df-container\">\n",
              "      <div>\n",
              "<style scoped>\n",
              "    .dataframe tbody tr th:only-of-type {\n",
              "        vertical-align: middle;\n",
              "    }\n",
              "\n",
              "    .dataframe tbody tr th {\n",
              "        vertical-align: top;\n",
              "    }\n",
              "\n",
              "    .dataframe thead th {\n",
              "        text-align: right;\n",
              "    }\n",
              "</style>\n",
              "<table border=\"1\" class=\"dataframe\">\n",
              "  <thead>\n",
              "    <tr style=\"text-align: right;\">\n",
              "      <th></th>\n",
              "      <th>user_id</th>\n",
              "      <th>item_id</th>\n",
              "      <th>weight</th>\n",
              "      <th>datetime</th>\n",
              "    </tr>\n",
              "  </thead>\n",
              "  <tbody>\n",
              "    <tr>\n",
              "      <th>1</th>\n",
              "      <td>0</td>\n",
              "      <td>7171</td>\n",
              "      <td>5</td>\n",
              "      <td>NaN</td>\n",
              "    </tr>\n",
              "    <tr>\n",
              "      <th>2</th>\n",
              "      <td>0</td>\n",
              "      <td>8637</td>\n",
              "      <td>4</td>\n",
              "      <td>NaN</td>\n",
              "    </tr>\n",
              "    <tr>\n",
              "      <th>3</th>\n",
              "      <td>0</td>\n",
              "      <td>21966</td>\n",
              "      <td>4</td>\n",
              "      <td>NaN</td>\n",
              "    </tr>\n",
              "    <tr>\n",
              "      <th>4</th>\n",
              "      <td>0</td>\n",
              "      <td>35821</td>\n",
              "      <td>5</td>\n",
              "      <td>NaN</td>\n",
              "    </tr>\n",
              "    <tr>\n",
              "      <th>5</th>\n",
              "      <td>0</td>\n",
              "      <td>82446</td>\n",
              "      <td>5</td>\n",
              "      <td>NaN</td>\n",
              "    </tr>\n",
              "  </tbody>\n",
              "</table>\n",
              "</div>\n",
              "      <button class=\"colab-df-convert\" onclick=\"convertToInteractive('df-0e68725b-55c7-4a92-ad04-6e2e88c9520d')\"\n",
              "              title=\"Convert this dataframe to an interactive table.\"\n",
              "              style=\"display:none;\">\n",
              "        \n",
              "  <svg xmlns=\"http://www.w3.org/2000/svg\" height=\"24px\"viewBox=\"0 0 24 24\"\n",
              "       width=\"24px\">\n",
              "    <path d=\"M0 0h24v24H0V0z\" fill=\"none\"/>\n",
              "    <path d=\"M18.56 5.44l.94 2.06.94-2.06 2.06-.94-2.06-.94-.94-2.06-.94 2.06-2.06.94zm-11 1L8.5 8.5l.94-2.06 2.06-.94-2.06-.94L8.5 2.5l-.94 2.06-2.06.94zm10 10l.94 2.06.94-2.06 2.06-.94-2.06-.94-.94-2.06-.94 2.06-2.06.94z\"/><path d=\"M17.41 7.96l-1.37-1.37c-.4-.4-.92-.59-1.43-.59-.52 0-1.04.2-1.43.59L10.3 9.45l-7.72 7.72c-.78.78-.78 2.05 0 2.83L4 21.41c.39.39.9.59 1.41.59.51 0 1.02-.2 1.41-.59l7.78-7.78 2.81-2.81c.8-.78.8-2.07 0-2.86zM5.41 20L4 18.59l7.72-7.72 1.47 1.35L5.41 20z\"/>\n",
              "  </svg>\n",
              "      </button>\n",
              "      \n",
              "  <style>\n",
              "    .colab-df-container {\n",
              "      display:flex;\n",
              "      flex-wrap:wrap;\n",
              "      gap: 12px;\n",
              "    }\n",
              "\n",
              "    .colab-df-convert {\n",
              "      background-color: #E8F0FE;\n",
              "      border: none;\n",
              "      border-radius: 50%;\n",
              "      cursor: pointer;\n",
              "      display: none;\n",
              "      fill: #1967D2;\n",
              "      height: 32px;\n",
              "      padding: 0 0 0 0;\n",
              "      width: 32px;\n",
              "    }\n",
              "\n",
              "    .colab-df-convert:hover {\n",
              "      background-color: #E2EBFA;\n",
              "      box-shadow: 0px 1px 2px rgba(60, 64, 67, 0.3), 0px 1px 3px 1px rgba(60, 64, 67, 0.15);\n",
              "      fill: #174EA6;\n",
              "    }\n",
              "\n",
              "    [theme=dark] .colab-df-convert {\n",
              "      background-color: #3B4455;\n",
              "      fill: #D2E3FC;\n",
              "    }\n",
              "\n",
              "    [theme=dark] .colab-df-convert:hover {\n",
              "      background-color: #434B5C;\n",
              "      box-shadow: 0px 1px 3px 1px rgba(0, 0, 0, 0.15);\n",
              "      filter: drop-shadow(0px 1px 2px rgba(0, 0, 0, 0.3));\n",
              "      fill: #FFFFFF;\n",
              "    }\n",
              "  </style>\n",
              "\n",
              "      <script>\n",
              "        const buttonEl =\n",
              "          document.querySelector('#df-0e68725b-55c7-4a92-ad04-6e2e88c9520d button.colab-df-convert');\n",
              "        buttonEl.style.display =\n",
              "          google.colab.kernel.accessAllowed ? 'block' : 'none';\n",
              "\n",
              "        async function convertToInteractive(key) {\n",
              "          const element = document.querySelector('#df-0e68725b-55c7-4a92-ad04-6e2e88c9520d');\n",
              "          const dataTable =\n",
              "            await google.colab.kernel.invokeFunction('convertToInteractive',\n",
              "                                                     [key], {});\n",
              "          if (!dataTable) return;\n",
              "\n",
              "          const docLinkHtml = 'Like what you see? Visit the ' +\n",
              "            '<a target=\"_blank\" href=https://colab.research.google.com/notebooks/data_table.ipynb>data table notebook</a>'\n",
              "            + ' to learn more about interactive tables.';\n",
              "          element.innerHTML = '';\n",
              "          dataTable['output_type'] = 'display_data';\n",
              "          await google.colab.output.renderOutput(dataTable, element);\n",
              "          const docLink = document.createElement('div');\n",
              "          docLink.innerHTML = docLinkHtml;\n",
              "          element.appendChild(docLink);\n",
              "        }\n",
              "      </script>\n",
              "    </div>\n",
              "  </div>\n",
              "  "
            ]
          },
          "metadata": {},
          "execution_count": 6
        }
      ],
      "source": [
        "ratings = pd.read_csv(\n",
        "    \"user_song_rating.csv\",\n",
        "    sep=\",\",\n",
        "    engine=\"python\",  # Because of 2-chars separators\n",
        "    header=None,\n",
        "    names=[Columns.User, Columns.Item, Columns.Weight, Columns.Datetime]\n",
        ")\n",
        "ratings = ratings.drop([0])\n",
        "ratings = ratings.iloc[0:1000000, 0:4]\n",
        "print(ratings.shape)\n",
        "ratings.head()"
      ]
    },
    {
      "cell_type": "markdown",
      "source": [
        "2) Разделение датасета на test и train"
      ],
      "metadata": {
        "id": "Ab7fWlCoUOKd"
      },
      "id": "Ab7fWlCoUOKd"
    },
    {
      "cell_type": "code",
      "source": [
        "df_train = ratings.sample(frac=0.8)\n",
        "df_test = ratings.drop(df_train.index)"
      ],
      "metadata": {
        "id": "EBzTm1FdwDHi"
      },
      "id": "EBzTm1FdwDHi",
      "execution_count": 7,
      "outputs": []
    },
    {
      "cell_type": "code",
      "source": [
        "dataset = Dataset.construct(df_train)"
      ],
      "metadata": {
        "id": "hjPrVoj_wmCb"
      },
      "id": "hjPrVoj_wmCb",
      "execution_count": 8,
      "outputs": []
    },
    {
      "cell_type": "markdown",
      "source": [
        "Будем предлагать пользователю по 10 рекомендаций.\n",
        "\n",
        "Было интересно попробовать что-то новое и поработать с библиотекой Rectools (подробное описание https://rectools.readthedocs.io/en/latest/index.html ).\n",
        "\n",
        "Функция ImplicitALSWrapperModel берет за основу функцию AlternatingLeastSquares из библиотеки implicit. Одними из главных гиперпарметров для ALS служат \n",
        "\n",
        "**iterations** - количество итераций ALS, которое необходимо использовать при обучении модели\n",
        "\n",
        "**factors** - по сути, это количество абстрактной информации, которую мы хотим хранить в пространстве меньшей размерности. Latent factors образуют векторное пространство из users и items для удобства их сравнивания.\n",
        "\n",
        "**regularization** - это коэффициент регуляризации. По сути является ограничителем для того, чтобы не произошло переобучение модели.\n",
        "\n",
        "Поискав информацию на подобные темы были подобраны параметры для AlternatingLeastSquares.\n",
        "Одними из главных гипе\n",
        "\n",
        "Тк в задаче нам требовалось построить метрики, зависящие от числа рекоммендованных песен, то я сделал цикл для сбора значений precision и recall для соответсвующих k"
      ],
      "metadata": {
        "id": "tBxni4iQUWsX"
      },
      "id": "tBxni4iQUWsX"
    },
    {
      "cell_type": "code",
      "source": [
        "def make_base_model():\n",
        "    # Need to create new base model every time to use same random initializations\n",
        "    return AlternatingLeastSquares(factors = 20, regularization=0.05, iterations=10)"
      ],
      "metadata": {
        "id": "QVtZGrkRwOuP"
      },
      "id": "QVtZGrkRwOuP",
      "execution_count": 9,
      "outputs": []
    },
    {
      "cell_type": "code",
      "source": [
        "als_precision = []\n",
        "als_recall = []\n",
        "for p in range(1,11):\n",
        "  metrics = {\"precision@k\": Precision(p), \"recall@k\": Recall(p)}\n",
        "\n",
        "  model = ImplicitALSWrapperModel(make_base_model())\n",
        "  model.fit(dataset)\n",
        "  recos = model.recommend(\n",
        "      users=df_test[Columns.User].unique(),\n",
        "      dataset=dataset,\n",
        "      k = 10,\n",
        "      filter_viewed=True\n",
        "  )\n",
        "  als_precision.append(calc_metrics(metrics, recos, df_test, df_train)['precision@k'])\n",
        "  als_recall.append(calc_metrics(metrics, recos, df_test, df_train)['recall@k'])"
      ],
      "metadata": {
        "colab": {
          "base_uri": "https://localhost:8080/"
        },
        "id": "DeNg73iOwwV5",
        "outputId": "e7bbdaee-ab03-4ff7-f0d4-76f94fad5fe3"
      },
      "id": "DeNg73iOwwV5",
      "execution_count": 10,
      "outputs": [
        {
          "output_type": "stream",
          "name": "stderr",
          "text": [
            "WARNING:implicit:GPU training requires factor size to be a multiple of 32. Increasing factors from 20 to 32.\n",
            "WARNING:root:OpenBLAS detected. Its highly recommend to set the environment variable 'export OPENBLAS_NUM_THREADS=1' to disable its internal multithreading\n",
            "WARNING:implicit:GPU training requires factor size to be a multiple of 32. Increasing factors from 20 to 32.\n",
            "WARNING:implicit:GPU training requires factor size to be a multiple of 32. Increasing factors from 20 to 32.\n",
            "WARNING:implicit:GPU training requires factor size to be a multiple of 32. Increasing factors from 20 to 32.\n",
            "WARNING:implicit:GPU training requires factor size to be a multiple of 32. Increasing factors from 20 to 32.\n",
            "WARNING:implicit:GPU training requires factor size to be a multiple of 32. Increasing factors from 20 to 32.\n",
            "WARNING:implicit:GPU training requires factor size to be a multiple of 32. Increasing factors from 20 to 32.\n",
            "WARNING:implicit:GPU training requires factor size to be a multiple of 32. Increasing factors from 20 to 32.\n",
            "WARNING:implicit:GPU training requires factor size to be a multiple of 32. Increasing factors from 20 to 32.\n",
            "WARNING:implicit:GPU training requires factor size to be a multiple of 32. Increasing factors from 20 to 32.\n"
          ]
        }
      ]
    },
    {
      "cell_type": "markdown",
      "source": [
        "Выше была реализована система рекомендаций на основании ALS\n",
        "\n",
        "Теперь перейдем к KNN. Опять же, в библиотеке rectools есть обертка для функции TFIDFRecommender из implicit.\n",
        "\n",
        "Также была собрана информация по метрикам precision и recall для соответсвующего k. В библиотеке есть методы, которые позволяют посчитать данные метрики."
      ],
      "metadata": {
        "id": "G29j9cL9WCFQ"
      },
      "id": "G29j9cL9WCFQ"
    },
    {
      "cell_type": "code",
      "source": [
        "knn_precision = []\n",
        "knn_recall = []\n",
        "for l in range(1,11):\n",
        "  metrics = {\"precision@k\": Precision(l), \"recall@k\": Recall(l)}\n",
        "\n",
        "  model2 = ImplicitItemKNNWrapperModel(TFIDFRecommender(K=10))\n",
        "  model2.fit(dataset)\n",
        "\n",
        "  # Make recommendations\n",
        "  recos2 = model2.recommend(\n",
        "      users=ratings[Columns.User].unique(),\n",
        "      dataset=dataset,\n",
        "      k = 10,\n",
        "      filter_viewed=True,\n",
        "  )\n",
        "  knn_precision.append(calc_metrics(metrics, recos2, df_test, df_train)['precision@k'])\n",
        "  knn_recall.append(calc_metrics(metrics, recos2, df_test, df_train)['recall@k'])"
      ],
      "metadata": {
        "id": "WRodBGnl7xkQ"
      },
      "id": "WRodBGnl7xkQ",
      "execution_count": 11,
      "outputs": []
    },
    {
      "cell_type": "code",
      "source": [
        "print(als_recall)"
      ],
      "metadata": {
        "colab": {
          "base_uri": "https://localhost:8080/"
        },
        "id": "vGHQDhYYIi0A",
        "outputId": "b7ee2810-809e-42a0-f37a-6461c111c290"
      },
      "id": "vGHQDhYYIi0A",
      "execution_count": 33,
      "outputs": [
        {
          "output_type": "stream",
          "name": "stdout",
          "text": [
            "[0.016638636304178014]\n"
          ]
        }
      ]
    },
    {
      "cell_type": "code",
      "source": [
        "print(als_recall)"
      ],
      "metadata": {
        "colab": {
          "base_uri": "https://localhost:8080/"
        },
        "id": "07wRDY3mNHZG",
        "outputId": "e1962c4d-d307-492f-8aa0-624eaa6671cd"
      },
      "id": "07wRDY3mNHZG",
      "execution_count": 39,
      "outputs": [
        {
          "output_type": "stream",
          "name": "stdout",
          "text": [
            "[]\n"
          ]
        }
      ]
    },
    {
      "cell_type": "markdown",
      "source": [
        "**Визуализация метрик**\n",
        "\n",
        "В контексте рекомендательных систем мы заинтересованы в том, чтобы рекомендовать пользователю N лучших элементов. Поэтому логичнее вычислять метрики precision и recall для первых N элементов, а не для всех элементов. Таким образом, понятия precision@k и recall@k, где k - определяемое пользователем целое число, которое задается пользователем для соответствия цели рекомендаций топ-N.\n",
        "\n",
        "Метрика **precision@k** это количество релевантных рекомендаций среди первых k элементов в списке из n рекомендованных деленное на k.\n",
        "\n",
        "А **recall@k** это это количество релевантных рекомендаций среди первых k элементов в списке из n рекомендованных деленное на количество элементов, которое человек оценил в конкретную сессию"
      ],
      "metadata": {
        "id": "YFpajMlvbLDp"
      },
      "id": "YFpajMlvbLDp"
    },
    {
      "cell_type": "code",
      "source": [
        "import matplotlib.pyplot as plt\n",
        "\n",
        "\n",
        "list_k = (1,2,3,4,5,6,7,8,9,10)\n",
        "\n",
        "fig, ax = plt.subplots()\n",
        "ax.plot(list_k, knn_precision, color='green')\n",
        "ax.set_title('KNN_Precision@k')\n",
        "ax.set_ylabel('Precision')\n",
        "ax.set_xlabel('K')\n",
        "plt.show() \n",
        "\n",
        "fig, ay = plt.subplots()\n",
        "ay.plot(list_k, knn_recall, color='red')\n",
        "ay.set_title('KNN_Recall@k')\n",
        "ay.set_ylabel('Recall')\n",
        "ay.set_xlabel('K')\n",
        "plt.show() \n",
        "\n",
        "fig, aw = plt.subplots()\n",
        "aw.plot(list_k, als_precision, color='green')\n",
        "aw.set_title('ALS_Precision@k')\n",
        "aw.set_ylabel('Precision')\n",
        "aw.set_xlabel('K')\n",
        "plt.show() \n",
        "\n",
        "fig, az = plt.subplots()\n",
        "az.plot(list_k, als_recall, color='red')\n",
        "az.set_title('ALS_Recall@k')\n",
        "az.set_ylabel('Recall')\n",
        "az.set_xlabel('K')\n",
        "plt.show() \n",
        "\n",
        "plt.plot(list_k, knn_precision, color='red', label='knn_precision')\n",
        "plt.plot(list_k, als_precision, color='green', label='als_precision')\n",
        "plt.legend(loc='best')\n",
        "plt.show()\n",
        "\n",
        "plt.plot(list_k, knn_recall, color='blue', label='knn_recall')\n",
        "plt.plot(list_k, als_recall, color='purple', label='als_recall')\n",
        "plt.legend(loc='best')\n",
        "plt.show()"
      ],
      "metadata": {
        "colab": {
          "base_uri": "https://localhost:8080/",
          "height": 1000
        },
        "id": "91O1hjP5A0BY",
        "outputId": "f31f426d-bead-4978-8f29-ae19986779a9"
      },
      "id": "91O1hjP5A0BY",
      "execution_count": 15,
      "outputs": [
        {
          "output_type": "display_data",
          "data": {
            "text/plain": [
              "<Figure size 432x288 with 1 Axes>"
            ],
            "image/png": "[encoded data removed]"
          },
          "metadata": {
            "needs_background": "light"
          }
        },
        {
          "output_type": "display_data",
          "data": {
            "text/plain": [
              "<Figure size 432x288 with 1 Axes>"
            ],
            "image/png": "[encoded data removed]"
          },
          "metadata": {
            "needs_background": "light"
          }
        },
        {
          "output_type": "display_data",
          "data": {
            "text/plain": [
              "<Figure size 432x288 with 1 Axes>"
            ],
            "image/png": "[encoded data removed]"
          },
          "metadata": {
            "needs_background": "light"
          }
        },
        {
          "output_type": "display_data",
          "data": {
            "text/plain": [
              "<Figure size 432x288 with 1 Axes>"
            ],
            "image/png": "[encoded data removed]"
          },
          "metadata": {
            "needs_background": "light"
          }
        },
        {
          "output_type": "display_data",
          "data": {
            "text/plain": [
              "<Figure size 432x288 with 1 Axes>"
            ],
            "image/png": "[encoded data removed]"
          },
          "metadata": {
            "needs_background": "light"
          }
        },
        {
          "output_type": "display_data",
          "data": {
            "text/plain": [
              "<Figure size 432x288 with 1 Axes>"
            ],
            "image/png": "[encoded data removed]"
          },
          "metadata": {
            "needs_background": "light"
          }
        }
      ]
    },
    {
      "cell_type": "markdown",
      "source": [
        "**Вывод**\n",
        "\n",
        "Мы знаем, что Recall измеряет способность модели обнаруживать выборки, которые конкретный юзер оценил. Чем выше recall, тем больше оцененных семплов конкретным пользователем было найдено. А precision помогает узнать, насколько точна модель, когда она говорит, что конкретному пользователю стоит рекомендовать именно это трек. Если она высока, вы можете доверять решению модели. \n",
        "\n",
        "Из графиков видно, что ALS работает лучше."
      ],
      "metadata": {
        "id": "6nPDfsHgnwsM"
      },
      "id": "6nPDfsHgnwsM"
    }
  ],
  "metadata": {
    "kernelspec": {
      "display_name": "Python 3 (ipykernel)",
      "language": "python",
      "name": "python3"
    },
    "language_info": {
      "codemirror_mode": {
        "name": "ipython",
        "version": 3
      },
      "file_extension": ".py",
      "mimetype": "text/x-python",
      "name": "python",
      "nbconvert_exporter": "python",
      "pygments_lexer": "ipython3",
      "version": "3.9.12"
    },
    "colab": {
      "provenance": [],
      "collapsed_sections": []
    },
    "accelerator": "GPU"
  },
  "nbformat": 4,
  "nbformat_minor": 5
}