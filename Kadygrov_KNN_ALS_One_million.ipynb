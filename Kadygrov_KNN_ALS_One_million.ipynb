{
  "cells": [
    {
      "cell_type": "code",
      "execution_count": null,
      "id": "7e7e4fc6",
      "metadata": {
        "colab": {
          "base_uri": "https://localhost:8080/"
        },
        "id": "7e7e4fc6",
        "outputId": "60dc0c7d-f1e9-4f11-e007-def5436d65ce"
      },
      "outputs": [
        {
          "output_type": "stream",
          "name": "stdout",
          "text": [
            "Looking in indexes: https://pypi.org/simple, https://us-python.pkg.dev/colab-wheels/public/simple/\n",
            "Requirement already satisfied: implicit in /usr/local/lib/python3.7/dist-packages (0.4.4)\n",
            "Requirement already satisfied: numpy in /usr/local/lib/python3.7/dist-packages (from implicit) (1.21.6)\n",
            "Requirement already satisfied: scipy>=0.16 in /usr/local/lib/python3.7/dist-packages (from implicit) (1.7.3)\n",
            "Requirement already satisfied: tqdm>=4.27 in /usr/local/lib/python3.7/dist-packages (from implicit) (4.64.1)\n"
          ]
        }
      ],
      "source": [
        "!pip install implicit"
      ]
    },
    {
      "cell_type": "code",
      "source": [
        "!pip install rectools"
      ],
      "metadata": {
        "colab": {
          "base_uri": "https://localhost:8080/"
        },
        "id": "9QjMTKdoUUsP",
        "outputId": "e658d281-a0f4-4d99-eed0-54aed2b23bb2"
      },
      "id": "9QjMTKdoUUsP",
      "execution_count": null,
      "outputs": [
        {
          "output_type": "stream",
          "name": "stdout",
          "text": [
            "Looking in indexes: https://pypi.org/simple, https://us-python.pkg.dev/colab-wheels/public/simple/\n",
            "Requirement already satisfied: rectools in /usr/local/lib/python3.7/dist-packages (0.2.0)\n",
            "Requirement already satisfied: lightfm<2.0,>=1.16 in /usr/local/lib/python3.7/dist-packages (from rectools) (1.16)\n",
            "Requirement already satisfied: numpy<2.0.0,>=1.19.5 in /usr/local/lib/python3.7/dist-packages (from rectools) (1.21.6)\n",
            "Requirement already satisfied: implicit==0.4.4 in /usr/local/lib/python3.7/dist-packages (from rectools) (0.4.4)\n",
            "Requirement already satisfied: scipy<2.0.0,>=1.5.4 in /usr/local/lib/python3.7/dist-packages (from rectools) (1.7.3)\n",
            "Requirement already satisfied: nmslib<3.0.0,>=2.0.4 in /usr/local/lib/python3.7/dist-packages (from rectools) (2.1.1)\n",
            "Requirement already satisfied: typeguard<3.0.0,>=2.0.1 in /usr/local/lib/python3.7/dist-packages (from rectools) (2.7.1)\n",
            "Requirement already satisfied: tqdm<5.0.0,>=4.27.0 in /usr/local/lib/python3.7/dist-packages (from rectools) (4.64.1)\n",
            "Requirement already satisfied: pandas<2.0.0,>=0.25.3 in /usr/local/lib/python3.7/dist-packages (from rectools) (1.3.5)\n",
            "Requirement already satisfied: attrs<22.0.0,>=19.1.0 in /usr/local/lib/python3.7/dist-packages (from rectools) (21.4.0)\n",
            "Requirement already satisfied: Markdown<3.3,>=3.2 in /usr/local/lib/python3.7/dist-packages (from rectools) (3.2.2)\n",
            "Requirement already satisfied: requests in /usr/local/lib/python3.7/dist-packages (from lightfm<2.0,>=1.16->rectools) (2.23.0)\n",
            "Requirement already satisfied: scikit-learn in /usr/local/lib/python3.7/dist-packages (from lightfm<2.0,>=1.16->rectools) (1.0.2)\n",
            "Requirement already satisfied: importlib-metadata in /usr/local/lib/python3.7/dist-packages (from Markdown<3.3,>=3.2->rectools) (4.12.0)\n",
            "Requirement already satisfied: pybind11<2.6.2 in /usr/local/lib/python3.7/dist-packages (from nmslib<3.0.0,>=2.0.4->rectools) (2.6.1)\n",
            "Requirement already satisfied: psutil in /usr/local/lib/python3.7/dist-packages (from nmslib<3.0.0,>=2.0.4->rectools) (5.4.8)\n",
            "Requirement already satisfied: pytz>=2017.3 in /usr/local/lib/python3.7/dist-packages (from pandas<2.0.0,>=0.25.3->rectools) (2022.2.1)\n",
            "Requirement already satisfied: python-dateutil>=2.7.3 in /usr/local/lib/python3.7/dist-packages (from pandas<2.0.0,>=0.25.3->rectools) (2.8.2)\n",
            "Requirement already satisfied: six>=1.5 in /usr/local/lib/python3.7/dist-packages (from python-dateutil>=2.7.3->pandas<2.0.0,>=0.25.3->rectools) (1.15.0)\n",
            "Requirement already satisfied: typing-extensions>=3.6.4 in /usr/local/lib/python3.7/dist-packages (from importlib-metadata->Markdown<3.3,>=3.2->rectools) (4.1.1)\n",
            "Requirement already satisfied: zipp>=0.5 in /usr/local/lib/python3.7/dist-packages (from importlib-metadata->Markdown<3.3,>=3.2->rectools) (3.8.1)\n",
            "Requirement already satisfied: idna<3,>=2.5 in /usr/local/lib/python3.7/dist-packages (from requests->lightfm<2.0,>=1.16->rectools) (2.10)\n",
            "Requirement already satisfied: chardet<4,>=3.0.2 in /usr/local/lib/python3.7/dist-packages (from requests->lightfm<2.0,>=1.16->rectools) (3.0.4)\n",
            "Requirement already satisfied: certifi>=2017.4.17 in /usr/local/lib/python3.7/dist-packages (from requests->lightfm<2.0,>=1.16->rectools) (2022.6.15)\n",
            "Requirement already satisfied: urllib3!=1.25.0,!=1.25.1,<1.26,>=1.21.1 in /usr/local/lib/python3.7/dist-packages (from requests->lightfm<2.0,>=1.16->rectools) (1.24.3)\n",
            "Requirement already satisfied: threadpoolctl>=2.0.0 in /usr/local/lib/python3.7/dist-packages (from scikit-learn->lightfm<2.0,>=1.16->rectools) (3.1.0)\n",
            "Requirement already satisfied: joblib>=0.11 in /usr/local/lib/python3.7/dist-packages (from scikit-learn->lightfm<2.0,>=1.16->rectools) (1.1.0)\n"
          ]
        }
      ]
    },
    {
      "cell_type": "code",
      "source": [
        "import numpy as np\n",
        "import pandas as pd\n",
        "import matplotlib.pyplot as plt\n",
        "\n",
        "from implicit.nearest_neighbours import TFIDFRecommender\n",
        "from implicit.als import AlternatingLeastSquares\n",
        "\n",
        "from rectools import Columns\n",
        "from rectools.dataset import Dataset, SparseFeatures, DenseFeatures, IdMap, Interactions\n",
        "from rectools.metrics import (\n",
        "    Precision,\n",
        "    Recall,\n",
        "    calc_metrics,\n",
        ")\n",
        "from rectools.models import ImplicitALSWrapperModel\n",
        "from rectools.models import ImplicitItemKNNWrapperModel"
      ],
      "metadata": {
        "id": "ewEIRaSMUNta"
      },
      "id": "ewEIRaSMUNta",
      "execution_count": 32,
      "outputs": []
    },
    {
      "cell_type": "markdown",
      "source": [
        "**Описание датасета**\n",
        "\n",
        "Датасет содержит информацию о пользователях lastfm (http://www.millionsongdataset.com/)\n",
        "\n",
        "А точнее содержатся исполнители, прослушанные каждым пользователем и количество прослушиваний для каждой пары [пользователь, исполнитель].\n",
        "\n",
        "А точнее имеет поля userID, artistID и weight."
      ],
      "metadata": {
        "id": "E7Ka2s9qXv8k"
      },
      "id": "E7Ka2s9qXv8k"
    },
    {
      "cell_type": "code",
      "execution_count": 33,
      "id": "be080cd4",
      "metadata": {
        "colab": {
          "base_uri": "https://localhost:8080/",
          "height": 223
        },
        "id": "be080cd4",
        "outputId": "efb64d09-60d8-420a-d0f6-c897e907a37e"
      },
      "outputs": [
        {
          "output_type": "stream",
          "name": "stdout",
          "text": [
            "(92834, 4)\n"
          ]
        },
        {
          "output_type": "execute_result",
          "data": {
            "text/plain": [
              "  user_id item_id weight  datetime\n",
              "1       2      51  13883       NaN\n",
              "2       2      52  11690       NaN\n",
              "3       2      53  11351       NaN\n",
              "4       2      54  10300       NaN\n",
              "5       2      55   8983       NaN"
            ],
            "text/html": [
              "\n",
              "  <div id=\"df-3552e987-aef4-4774-9fc4-f96c79d0f397\">\n",
              "    <div class=\"colab-df-container\">\n",
              "      <div>\n",
              "<style scoped>\n",
              "    .dataframe tbody tr th:only-of-type {\n",
              "        vertical-align: middle;\n",
              "    }\n",
              "\n",
              "    .dataframe tbody tr th {\n",
              "        vertical-align: top;\n",
              "    }\n",
              "\n",
              "    .dataframe thead th {\n",
              "        text-align: right;\n",
              "    }\n",
              "</style>\n",
              "<table border=\"1\" class=\"dataframe\">\n",
              "  <thead>\n",
              "    <tr style=\"text-align: right;\">\n",
              "      <th></th>\n",
              "      <th>user_id</th>\n",
              "      <th>item_id</th>\n",
              "      <th>weight</th>\n",
              "      <th>datetime</th>\n",
              "    </tr>\n",
              "  </thead>\n",
              "  <tbody>\n",
              "    <tr>\n",
              "      <th>1</th>\n",
              "      <td>2</td>\n",
              "      <td>51</td>\n",
              "      <td>13883</td>\n",
              "      <td>NaN</td>\n",
              "    </tr>\n",
              "    <tr>\n",
              "      <th>2</th>\n",
              "      <td>2</td>\n",
              "      <td>52</td>\n",
              "      <td>11690</td>\n",
              "      <td>NaN</td>\n",
              "    </tr>\n",
              "    <tr>\n",
              "      <th>3</th>\n",
              "      <td>2</td>\n",
              "      <td>53</td>\n",
              "      <td>11351</td>\n",
              "      <td>NaN</td>\n",
              "    </tr>\n",
              "    <tr>\n",
              "      <th>4</th>\n",
              "      <td>2</td>\n",
              "      <td>54</td>\n",
              "      <td>10300</td>\n",
              "      <td>NaN</td>\n",
              "    </tr>\n",
              "    <tr>\n",
              "      <th>5</th>\n",
              "      <td>2</td>\n",
              "      <td>55</td>\n",
              "      <td>8983</td>\n",
              "      <td>NaN</td>\n",
              "    </tr>\n",
              "  </tbody>\n",
              "</table>\n",
              "</div>\n",
              "      <button class=\"colab-df-convert\" onclick=\"convertToInteractive('df-3552e987-aef4-4774-9fc4-f96c79d0f397')\"\n",
              "              title=\"Convert this dataframe to an interactive table.\"\n",
              "              style=\"display:none;\">\n",
              "        \n",
              "  <svg xmlns=\"http://www.w3.org/2000/svg\" height=\"24px\"viewBox=\"0 0 24 24\"\n",
              "       width=\"24px\">\n",
              "    <path d=\"M0 0h24v24H0V0z\" fill=\"none\"/>\n",
              "    <path d=\"M18.56 5.44l.94 2.06.94-2.06 2.06-.94-2.06-.94-.94-2.06-.94 2.06-2.06.94zm-11 1L8.5 8.5l.94-2.06 2.06-.94-2.06-.94L8.5 2.5l-.94 2.06-2.06.94zm10 10l.94 2.06.94-2.06 2.06-.94-2.06-.94-.94-2.06-.94 2.06-2.06.94z\"/><path d=\"M17.41 7.96l-1.37-1.37c-.4-.4-.92-.59-1.43-.59-.52 0-1.04.2-1.43.59L10.3 9.45l-7.72 7.72c-.78.78-.78 2.05 0 2.83L4 21.41c.39.39.9.59 1.41.59.51 0 1.02-.2 1.41-.59l7.78-7.78 2.81-2.81c.8-.78.8-2.07 0-2.86zM5.41 20L4 18.59l7.72-7.72 1.47 1.35L5.41 20z\"/>\n",
              "  </svg>\n",
              "      </button>\n",
              "      \n",
              "  <style>\n",
              "    .colab-df-container {\n",
              "      display:flex;\n",
              "      flex-wrap:wrap;\n",
              "      gap: 12px;\n",
              "    }\n",
              "\n",
              "    .colab-df-convert {\n",
              "      background-color: #E8F0FE;\n",
              "      border: none;\n",
              "      border-radius: 50%;\n",
              "      cursor: pointer;\n",
              "      display: none;\n",
              "      fill: #1967D2;\n",
              "      height: 32px;\n",
              "      padding: 0 0 0 0;\n",
              "      width: 32px;\n",
              "    }\n",
              "\n",
              "    .colab-df-convert:hover {\n",
              "      background-color: #E2EBFA;\n",
              "      box-shadow: 0px 1px 2px rgba(60, 64, 67, 0.3), 0px 1px 3px 1px rgba(60, 64, 67, 0.15);\n",
              "      fill: #174EA6;\n",
              "    }\n",
              "\n",
              "    [theme=dark] .colab-df-convert {\n",
              "      background-color: #3B4455;\n",
              "      fill: #D2E3FC;\n",
              "    }\n",
              "\n",
              "    [theme=dark] .colab-df-convert:hover {\n",
              "      background-color: #434B5C;\n",
              "      box-shadow: 0px 1px 3px 1px rgba(0, 0, 0, 0.15);\n",
              "      filter: drop-shadow(0px 1px 2px rgba(0, 0, 0, 0.3));\n",
              "      fill: #FFFFFF;\n",
              "    }\n",
              "  </style>\n",
              "\n",
              "      <script>\n",
              "        const buttonEl =\n",
              "          document.querySelector('#df-3552e987-aef4-4774-9fc4-f96c79d0f397 button.colab-df-convert');\n",
              "        buttonEl.style.display =\n",
              "          google.colab.kernel.accessAllowed ? 'block' : 'none';\n",
              "\n",
              "        async function convertToInteractive(key) {\n",
              "          const element = document.querySelector('#df-3552e987-aef4-4774-9fc4-f96c79d0f397');\n",
              "          const dataTable =\n",
              "            await google.colab.kernel.invokeFunction('convertToInteractive',\n",
              "                                                     [key], {});\n",
              "          if (!dataTable) return;\n",
              "\n",
              "          const docLinkHtml = 'Like what you see? Visit the ' +\n",
              "            '<a target=\"_blank\" href=https://colab.research.google.com/notebooks/data_table.ipynb>data table notebook</a>'\n",
              "            + ' to learn more about interactive tables.';\n",
              "          element.innerHTML = '';\n",
              "          dataTable['output_type'] = 'display_data';\n",
              "          await google.colab.output.renderOutput(dataTable, element);\n",
              "          const docLink = document.createElement('div');\n",
              "          docLink.innerHTML = docLinkHtml;\n",
              "          element.appendChild(docLink);\n",
              "        }\n",
              "      </script>\n",
              "    </div>\n",
              "  </div>\n",
              "  "
            ]
          },
          "metadata": {},
          "execution_count": 33
        }
      ],
      "source": [
        "ratings = pd.read_csv(\n",
        "    \"user_artists.dat\",\n",
        "    delimiter='\\t',\n",
        "    engine=\"python\",  # Because of 2-chars separators\n",
        "    header=None,\n",
        "    names=[Columns.User, Columns.Item, Columns.Weight, Columns.Datetime]\n",
        ")\n",
        "ratings = ratings.drop([0])\n",
        "#ratings = ratings.iloc[0:500000, 0:3]\n",
        "print(ratings.shape)\n",
        "ratings.head()"
      ]
    },
    {
      "cell_type": "code",
      "execution_count": 34,
      "id": "e64dcfbf",
      "metadata": {
        "id": "e64dcfbf"
      },
      "outputs": [],
      "source": [
        "df_train = ratings.sample(frac=0.8)\n",
        "df_test = ratings.drop(df_train.index)"
      ]
    },
    {
      "cell_type": "code",
      "execution_count": 35,
      "id": "bf04255c",
      "metadata": {
        "id": "bf04255c"
      },
      "outputs": [],
      "source": [
        "dataset = Dataset.construct(df_train)"
      ]
    },
    {
      "cell_type": "code",
      "execution_count": 36,
      "id": "ddda1162",
      "metadata": {
        "id": "ddda1162"
      },
      "outputs": [],
      "source": [
        "def make_base_model():\n",
        "    # Need to create new base model every time to use same random initializations\n",
        "    return AlternatingLeastSquares(factors = 20, regularization=0.05, iterations=10)"
      ]
    },
    {
      "cell_type": "code",
      "execution_count": 37,
      "id": "b80f2b51",
      "metadata": {
        "colab": {
          "base_uri": "https://localhost:8080/"
        },
        "id": "b80f2b51",
        "outputId": "3a52ae27-9c0b-4a9a-ff31-ac8d72bf95cf"
      },
      "outputs": [
        {
          "output_type": "stream",
          "name": "stderr",
          "text": [
            "WARNING:implicit:GPU training requires factor size to be a multiple of 32. Increasing factors from 20 to 32.\n",
            "WARNING:implicit:GPU training requires factor size to be a multiple of 32. Increasing factors from 20 to 32.\n",
            "WARNING:implicit:GPU training requires factor size to be a multiple of 32. Increasing factors from 20 to 32.\n",
            "WARNING:implicit:GPU training requires factor size to be a multiple of 32. Increasing factors from 20 to 32.\n",
            "WARNING:implicit:GPU training requires factor size to be a multiple of 32. Increasing factors from 20 to 32.\n",
            "WARNING:implicit:GPU training requires factor size to be a multiple of 32. Increasing factors from 20 to 32.\n",
            "WARNING:implicit:GPU training requires factor size to be a multiple of 32. Increasing factors from 20 to 32.\n",
            "WARNING:implicit:GPU training requires factor size to be a multiple of 32. Increasing factors from 20 to 32.\n",
            "WARNING:implicit:GPU training requires factor size to be a multiple of 32. Increasing factors from 20 to 32.\n",
            "WARNING:implicit:GPU training requires factor size to be a multiple of 32. Increasing factors from 20 to 32.\n"
          ]
        }
      ],
      "source": [
        "als_precision = []\n",
        "als_recall = []\n",
        "for p in range(1,11):\n",
        "  metrics = {\"precision@k\": Precision(p), \"recall@k\": Recall(p)}\n",
        "\n",
        "  model = ImplicitALSWrapperModel(make_base_model())\n",
        "  model.fit(dataset)\n",
        "  recos = model.recommend(\n",
        "      users=df_test[Columns.User].unique(),\n",
        "      dataset=dataset,\n",
        "      k = 10,\n",
        "      filter_viewed = True\n",
        "  )\n",
        "  als_precision.append(calc_metrics(metrics, recos, df_test, df_train)['precision@k'])\n",
        "  als_recall.append(calc_metrics(metrics, recos, df_test, df_train)['recall@k'])"
      ]
    },
    {
      "cell_type": "code",
      "execution_count": 38,
      "id": "e59a8d46",
      "metadata": {
        "id": "e59a8d46"
      },
      "outputs": [],
      "source": [
        "knn_precision = []\n",
        "knn_recall = []\n",
        "for l in range(1,11):\n",
        "  metrics = {\"precision@k\": Precision(l), \"recall@k\": Recall(l)}\n",
        "\n",
        "  model2 = ImplicitItemKNNWrapperModel(TFIDFRecommender(K=10))\n",
        "  model2.fit(dataset)\n",
        "\n",
        "  # Make recommendations\n",
        "  recos2 = model2.recommend(\n",
        "      users=ratings[Columns.User].unique(),\n",
        "      dataset=dataset,\n",
        "      k = 10,\n",
        "      filter_viewed=True,\n",
        "  )\n",
        "  knn_precision.append(calc_metrics(metrics, recos2, df_test, df_train)['precision@k'])\n",
        "  knn_recall.append(calc_metrics(metrics, recos2, df_test, df_train)['recall@k'])"
      ]
    },
    {
      "cell_type": "code",
      "execution_count": 39,
      "id": "e96f76c6",
      "metadata": {
        "id": "e96f76c6",
        "colab": {
          "base_uri": "https://localhost:8080/",
          "height": 1000
        },
        "outputId": "39f70836-3824-4eb1-b2f0-00b2b172ba36"
      },
      "outputs": [
        {
          "output_type": "display_data",
          "data": {
            "text/plain": [
              "<Figure size 432x288 with 1 Axes>"
            ],
            "image/png": "[encoded data removed]"
          },
          "metadata": {
            "needs_background": "light"
          }
        },
        {
          "output_type": "display_data",
          "data": {
            "text/plain": [
              "<Figure size 432x288 with 1 Axes>"
            ],
            "image/png": "[encoded data removed]"
          },
          "metadata": {
            "needs_background": "light"
          }
        },
        {
          "output_type": "display_data",
          "data": {
            "text/plain": [
              "<Figure size 432x288 with 1 Axes>"
            ],
            "image/png": "[encoded data removed]"
          },
          "metadata": {
            "needs_background": "light"
          }
        },
        {
          "output_type": "display_data",
          "data": {
            "text/plain": [
              "<Figure size 432x288 with 1 Axes>"
            ],
            "image/png": "[encoded data removed]"
          },
          "metadata": {
            "needs_background": "light"
          }
        },
        {
          "output_type": "display_data",
          "data": {
            "text/plain": [
              "<Figure size 432x288 with 1 Axes>"
            ],
            "image/png": "[encoded data removed]"
          },
          "metadata": {
            "needs_background": "light"
          }
        },
        {
          "output_type": "display_data",
          "data": {
            "text/plain": [
              "<Figure size 432x288 with 1 Axes>"
            ],
            "image/png": "[encoded data removed]"
          },
          "metadata": {
            "needs_background": "light"
          }
        }
      ],
      "source": [
        "import matplotlib.pyplot as plt\n",
        "\n",
        "\n",
        "list_k = (1,2,3,4,5,6,7,8,9,10)\n",
        "\n",
        "fig, ax = plt.subplots()\n",
        "ax.plot(list_k, knn_precision, color='green')\n",
        "ax.set_title('KNN_Precision@k')\n",
        "ax.set_ylabel('Precision')\n",
        "ax.set_xlabel('K')\n",
        "plt.show() \n",
        "\n",
        "fig, ay = plt.subplots()\n",
        "ay.plot(list_k, knn_recall, color='red')\n",
        "ay.set_title('KNN_Recall@k')\n",
        "ay.set_ylabel('Recall')\n",
        "ay.set_xlabel('K')\n",
        "plt.show() \n",
        "\n",
        "fig, aw = plt.subplots()\n",
        "aw.plot(list_k, als_precision, color='green')\n",
        "aw.set_title('ALS_Precision@k')\n",
        "aw.set_ylabel('Precision')\n",
        "aw.set_xlabel('K')\n",
        "plt.show() \n",
        "\n",
        "fig, az = plt.subplots()\n",
        "az.plot(list_k, als_recall, color='red')\n",
        "az.set_title('ALS_Recall@k')\n",
        "az.set_ylabel('Recall')\n",
        "az.set_xlabel('K')\n",
        "plt.show() \n",
        "\n",
        "plt.plot(list_k, knn_precision, color='red', label='knn_precision')\n",
        "plt.plot(list_k, als_precision, color='green', label='als_precision')\n",
        "plt.legend(loc='best')\n",
        "plt.show()\n",
        "\n",
        "plt.plot(list_k, knn_recall, color='blue', label='knn_recall')\n",
        "plt.plot(list_k, als_recall, color='purple', label='als_recall')\n",
        "plt.legend(loc='best')\n",
        "plt.show()"
      ]
    },
    {
      "cell_type": "markdown",
      "source": [
        "**Вывод**\n",
        "\n",
        "Мы можем наглядно пронаблюдать, как с увеличением К точность работы KNN уменьшается, но при этом при маленьких К KNN лучше опредлял артистов, прослушанных пользователем. Для ALS видно, как он изначально имел не такое хорошее качество как KNN, но при этом значение K не так сильно бьет по качеству.  "
      ],
      "metadata": {
        "id": "H4HNPx7gXDLM"
      },
      "id": "H4HNPx7gXDLM"
    }
  ],
  "metadata": {
    "kernelspec": {
      "display_name": "Python 3 (ipykernel)",
      "language": "python",
      "name": "python3"
    },
    "language_info": {
      "codemirror_mode": {
        "name": "ipython",
        "version": 3
      },
      "file_extension": ".py",
      "mimetype": "text/x-python",
      "name": "python",
      "nbconvert_exporter": "python",
      "pygments_lexer": "ipython3",
      "version": "3.9.12"
    },
    "colab": {
      "provenance": []
    },
    "accelerator": "GPU"
  },
  "nbformat": 4,
  "nbformat_minor": 5
}